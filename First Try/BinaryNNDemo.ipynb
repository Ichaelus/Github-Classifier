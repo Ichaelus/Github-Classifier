{
 "cells": [
  {
   "cell_type": "code",
   "execution_count": 1,
   "metadata": {
    "collapsed": false
   },
   "outputs": [
    {
     "name": "stderr",
     "output_type": "stream",
     "text": [
      "Using Theano backend.\n"
     ]
    }
   ],
   "source": [
    "import utilities\n",
    "from utilities import *\n",
    "import keras\n",
    "from keras.models import Sequential\n",
    "from keras.layers import Dense, Activation\n",
    "from keras.models import load_model\n",
    "\n",
    "def test_sentence(sentence):\n",
    "    sentence = process_text(sentence)\n",
    "    vec = vectorizer.transform([sentence]).toarray()\n",
    "    print \"Label\", label_names[np.argmax(model.predict_proba(vec, verbose=False))]\n",
    "    out = model.predict_proba(vec, verbose=False)[0]\n",
    "    prob_dev = out[0]\n",
    "    prob_not = out[1]\n",
    "    print \"Proba DEV: {0:.2f} Not DEV: {1:.2f}\".format(prob_dev, prob_not)\n",
    "\n",
    "# Constants\n",
    "no_dev = False\n",
    "binary = True"
   ]
  },
  {
   "cell_type": "code",
   "execution_count": 2,
   "metadata": {
    "collapsed": false
   },
   "outputs": [
    {
     "name": "stdout",
     "output_type": "stream",
     "text": [
      "Get and process data\n",
      "Vectorize data\n",
      "Prepare one-hot-encoding\n"
     ]
    }
   ],
   "source": [
    "print \"Get and process data\"\n",
    "# Get raw text + labels\n",
    "features, labels, label_names = get_data('readme', binary=binary, no_dev=no_dev)\n",
    "features2, labels2, label_names2 = get_data('description', binary=binary, no_dev=no_dev)\n",
    "features = features + features2\n",
    "labels = labels + labels2\n",
    "features, labels = shuffle_data(features, labels)\n",
    "#features = np.matrix(features)\n",
    "\n",
    "print \"Vectorize data\"\n",
    "# trainingsdaten werden in eingabedaten (vektoren) umgewandelt\n",
    "# features ist dann matrix bestehend aus den einzelnen vektore\n",
    "features, vectorizer = vectorize_text(features, max_features=4000)\n",
    "\n",
    "# x sind die eingabematrizen, y sind die vektoren in denen die ergebnisse stehen\n",
    "x_train, x_test, y_train, y_test = split_train_test(features, labels, ratio=0.8, shuffle=True)\n",
    "\n",
    "print \"Prepare one-hot-encoding\"\n",
    "# One-Hot-Encoding needed for Neural Net Output\n",
    "y_train = one_hot_encoding(y_train)\n",
    "y_test = one_hot_encoding(y_test)"
   ]
  },
  {
   "cell_type": "code",
   "execution_count": 3,
   "metadata": {
    "collapsed": true
   },
   "outputs": [],
   "source": [
    "model = load_model('modelrmanddescr5epoch')"
   ]
  },
  {
   "cell_type": "code",
   "execution_count": 12,
   "metadata": {
    "collapsed": false
   },
   "outputs": [
    {
     "name": "stdout",
     "output_type": "stream",
     "text": [
      "Label NOTDEV\n",
      "Proba DEV: 0.48 Not DEV: 0.52\n"
     ]
    }
   ],
   "source": [
    "test_sentence('')"
   ]
  },
  {
   "cell_type": "code",
   "execution_count": null,
   "metadata": {
    "collapsed": true
   },
   "outputs": [],
   "source": []
  }
 ],
 "metadata": {
  "kernelspec": {
   "display_name": "Python 2",
   "language": "python",
   "name": "python2"
  },
  "language_info": {
   "codemirror_mode": {
    "name": "ipython",
    "version": 2
   },
   "file_extension": ".py",
   "mimetype": "text/x-python",
   "name": "python",
   "nbconvert_exporter": "python",
   "pygments_lexer": "ipython2",
   "version": "2.7.11"
  }
 },
 "nbformat": 4,
 "nbformat_minor": 1
}
