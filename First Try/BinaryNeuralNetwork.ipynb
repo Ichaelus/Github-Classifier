{
 "cells": [
  {
   "cell_type": "code",
   "execution_count": 1,
   "metadata": {
    "collapsed": false
   },
   "outputs": [
    {
     "name": "stderr",
     "output_type": "stream",
     "text": [
      "Using Theano backend.\n"
     ]
    }
   ],
   "source": [
    "import utilities\n",
    "from utilities import *\n",
    "import keras\n",
    "from keras.models import Sequential\n",
    "from keras.layers import Dense, Activation\n",
    "\n",
    "def test_sentence(sentence):\n",
    "    sentence = process_text(sentence)\n",
    "    vec = vectorizer.transform([sentence]).toarray()\n",
    "    print \"Label\", label_names[np.argmax(model.predict_proba(vec))]\n",
    "    out = model.predict_proba(vec)[0]\n",
    "    prob_dev = out[0]\n",
    "    prob_not = out[1]\n",
    "    print \"Proba DEV: {0:.2f} Not DEV: {1:.2f}\".format(prob_dev, prob_not)\n",
    "\n",
    "# Constants\n",
    "binary = True"
   ]
  },
  {
   "cell_type": "code",
   "execution_count": 7,
   "metadata": {
    "collapsed": false
   },
   "outputs": [
    {
     "name": "stdout",
     "output_type": "stream",
     "text": [
      "Get and process data\n",
      "Vectorize data\n"
     ]
    },
    {
     "ename": "TypeError",
     "evalue": "vectorize_text() got an unexpected keyword argument 'max_features'",
     "output_type": "error",
     "traceback": [
      "\u001b[0;31m---------------------------------------------------------------------------\u001b[0m",
      "\u001b[0;31mTypeError\u001b[0m                                 Traceback (most recent call last)",
      "\u001b[0;32m<ipython-input-7-385cf972fb43>\u001b[0m in \u001b[0;36m<module>\u001b[0;34m()\u001b[0m\n\u001b[1;32m      8\u001b[0m \u001b[0;31m# trainingsdaten werden in eingabedaten (vektoren) umgewandelt\u001b[0m\u001b[0;34m\u001b[0m\u001b[0;34m\u001b[0m\u001b[0m\n\u001b[1;32m      9\u001b[0m \u001b[0;31m# features ist dann matrix bestehend aus den einzelnen vektore\u001b[0m\u001b[0;34m\u001b[0m\u001b[0;34m\u001b[0m\u001b[0m\n\u001b[0;32m---> 10\u001b[0;31m \u001b[0mfeatures\u001b[0m\u001b[0;34m,\u001b[0m \u001b[0mvectorizer\u001b[0m \u001b[0;34m=\u001b[0m \u001b[0mvectorize_text\u001b[0m\u001b[0;34m(\u001b[0m\u001b[0mfeatures\u001b[0m\u001b[0;34m,\u001b[0m \u001b[0mmax_features\u001b[0m\u001b[0;34m=\u001b[0m\u001b[0;36m2000\u001b[0m\u001b[0;34m)\u001b[0m\u001b[0;34m\u001b[0m\u001b[0m\n\u001b[0m\u001b[1;32m     11\u001b[0m \u001b[0;34m\u001b[0m\u001b[0m\n\u001b[1;32m     12\u001b[0m \u001b[0;31m# x sind die eingabematrizen, y sind die vektoren in denen die ergebnisse stehen\u001b[0m\u001b[0;34m\u001b[0m\u001b[0;34m\u001b[0m\u001b[0m\n",
      "\u001b[0;31mTypeError\u001b[0m: vectorize_text() got an unexpected keyword argument 'max_features'"
     ]
    }
   ],
   "source": [
    "print \"Get and process data\"\n",
    "# Get raw text + labels\n",
    "features, labels, label_names = get_data('readme', binary=binary)\n",
    "features, labels = shuffle_data(features, labels)\n",
    "#features = np.matrix(features)\n",
    "\n",
    "print \"Vectorize data\"\n",
    "# trainingsdaten werden in eingabedaten (vektoren) umgewandelt\n",
    "# features ist dann matrix bestehend aus den einzelnen vektore\n",
    "features, vectorizer = vectorize_text(features, max_features=2000)\n",
    "\n",
    "# x sind die eingabematrizen, y sind die vektoren in denen die ergebnisse stehen\n",
    "x_train, x_test, y_train, y_test = split_train_test(features, labels, ratio=0.9, shuffle=True)\n",
    "\n",
    "print \"Prepare one-hot-encoding\"\n",
    "# One-Hot-Encoding needed for Neural Net Output\n",
    "y_train = one_hot_encoding(y_train)\n",
    "y_test = one_hot_encoding(y_test)"
   ]
  },
  {
   "cell_type": "code",
   "execution_count": 4,
   "metadata": {
    "collapsed": false
   },
   "outputs": [
    {
     "name": "stdout",
     "output_type": "stream",
     "text": [
      "Build model\n"
     ]
    }
   ],
   "source": [
    "print \"Build model\"\n",
    "# Struktur des Netzes\n",
    "model = Sequential()\n",
    "input_size = x_train.shape[1]\n",
    "model.add(Dense(input_size, input_dim=input_size))\n",
    "model.add(Activation('relu'))\n",
    "model.add(Dense(input_size * 3))\n",
    "model.add(Activation('relu'))\n",
    "# Output Layer, one neuron per class\n",
    "if binary:\n",
    "    model.add(Dense(2))\n",
    "else:\n",
    "    model.add(Dense(8))\n",
    "# Softmax zum Normalisieren der Werte, damit Wert des Neurons WSK in % angibt\n",
    "model.add(Activation('softmax'))\n",
    "\n",
    "model.compile(metrics=['accuracy'], optimizer='adam', loss='categorical_crossentropy')"
   ]
  },
  {
   "cell_type": "code",
   "execution_count": 5,
   "metadata": {
    "collapsed": false
   },
   "outputs": [
    {
     "name": "stdout",
     "output_type": "stream",
     "text": [
      "Train model\n",
      "Epoch 1/5\n",
      "1009/1009 [==============================] - 7s - loss: 0.5212 - acc: 0.7651     \n",
      "Epoch 2/5\n",
      "1009/1009 [==============================] - 7s - loss: 0.2108 - acc: 0.9257     \n",
      "Epoch 3/5\n",
      "1009/1009 [==============================] - 7s - loss: 0.0902 - acc: 0.9574     \n",
      "Epoch 4/5\n",
      "1009/1009 [==============================] - 7s - loss: 0.0824 - acc: 0.9604     \n",
      "Epoch 5/5\n",
      "1009/1009 [==============================] - 6s - loss: 0.0766 - acc: 0.9613     \n"
     ]
    },
    {
     "data": {
      "text/plain": [
       "<keras.callbacks.History at 0x12f588110>"
      ]
     },
     "execution_count": 5,
     "metadata": {},
     "output_type": "execute_result"
    }
   ],
   "source": [
    "print \"Train model\"\n",
    "# Train for 10 epochs\n",
    "model.fit(x_train, y_train, nb_epoch=5, shuffle=True)"
   ]
  },
  {
   "cell_type": "code",
   "execution_count": null,
   "metadata": {
    "collapsed": false
   },
   "outputs": [],
   "source": [
    "#variablen zum analysieren der ergebnisse\n",
    "succ = 0\n",
    "total = 0\n",
    "dev_pred_count = 0\n",
    "dev_count = 0\n",
    "\n",
    "# Test other samples\n",
    "pred = model.predict(x_test)\n",
    "for i in xrange(len(x_test)):\n",
    "    if np.argmax(y_test[i]) != label_names.index('DEV'):\n",
    "        if np.argmax(pred[i]) == np.argmax(y_test[i]):\n",
    "            succ = succ + 1\n",
    "        total = total + 1\n",
    "    if np.argmax(pred[i]) == 0:\n",
    "        dev_pred_count += 1\n",
    "    if np.argmax(y_test[i]) == 0:\n",
    "        dev_count += 1\n",
    "succ = succ / float(total)\n",
    "\n",
    "print \"Ratio assumed dev/ all classes\", float(dev_pred_count) / len(x_test)\n",
    "print \"Ratio dev / all classes\", float(dev_count) / len(y_test)\n",
    "print \"Result without dev:\", succ\n",
    "acc = model.evaluate(x_test, y_test, verbose=0)\n",
    "print \"Result with dev: \", acc[1]"
   ]
  },
  {
   "cell_type": "code",
   "execution_count": 31,
   "metadata": {
    "collapsed": false
   },
   "outputs": [
    {
     "name": "stdout",
     "output_type": "stream",
     "text": [
      "1/1 [==============================] - 0s\n",
      " DEV\n",
      "1/1 [==============================] - 0s\n",
      "Proba DEV: 0.69 Not DEV: 0.31\n"
     ]
    }
   ],
   "source": [
    "# Test model on some sentence\n",
    "\n",
    "test_sentence('A maturity model for adopting open source')"
   ]
  },
  {
   "cell_type": "code",
   "execution_count": null,
   "metadata": {
    "collapsed": true
   },
   "outputs": [],
   "source": []
  }
 ],
 "metadata": {
  "kernelspec": {
   "display_name": "Python 2",
   "language": "python",
   "name": "python2"
  },
  "language_info": {
   "codemirror_mode": {
    "name": "ipython",
    "version": 2
   },
   "file_extension": ".py",
   "mimetype": "text/x-python",
   "name": "python",
   "nbconvert_exporter": "python",
   "pygments_lexer": "ipython2",
   "version": "2.7.11"
  }
 },
 "nbformat": 4,
 "nbformat_minor": 1
}
