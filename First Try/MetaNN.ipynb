{
 "cells": [
  {
   "cell_type": "code",
   "execution_count": 80,
   "metadata": {
    "collapsed": false
   },
   "outputs": [],
   "source": [
    "import utilities\n",
    "from utilities import *\n",
    "import keras\n",
    "from keras.models import Sequential\n",
    "from keras.layers import Dense, Activation\n",
    "from keras.optimizers import Adam\n",
    "import os\n",
    "\n",
    "def test_sentence(sentence):\n",
    "    sentence = process_text(sentence)\n",
    "    vec = vectorizer.transform([sentence]).toarray()\n",
    "    prediction = model.predict_proba(vec)[0]\n",
    "    print \"Label\", label_names[np.argmax(prediction)]\n",
    "    for i, category in enumerate(label_names):\n",
    "        print \"{}: {:.2f}\".format(category, prediction[i])\n",
    "\n",
    "# Constants\n",
    "no_dev = False\n",
    "binary = False"
   ]
  },
  {
   "cell_type": "code",
   "execution_count": 81,
   "metadata": {
    "collapsed": false
   },
   "outputs": [
    {
     "name": "stdout",
     "output_type": "stream",
     "text": [
      "Get and process data\n",
      "Prepare one-hot-encoding\n"
     ]
    }
   ],
   "source": [
    "print \"Get and process data\"\n",
    "# Get raw text + labels\n",
    "features, labels, label_names = get_data(whatIWant='meta', binary=binary, no_dev=no_dev)\n",
    "features = np.asanyarray(features)\n",
    "\n",
    "# x sind die eingabematrizen, y sind die vektoren in denen die ergebnisse stehen\n",
    "x_train, x_test, y_train, y_test = split_train_test(features, labels, ratio=0.7, shuffle=True)\n",
    "\n",
    "print \"Prepare one-hot-encoding\"\n",
    "# One-Hot-Encoding needed for Neural Net Output\n",
    "y_train = one_hot_encoding(y_train)\n",
    "y_test = one_hot_encoding(y_test)"
   ]
  },
  {
   "cell_type": "code",
   "execution_count": 86,
   "metadata": {
    "collapsed": false
   },
   "outputs": [
    {
     "data": {
      "text/plain": [
       "[u'SKIPPED',\n",
       " u'DEV',\n",
       " u'UNSURE',\n",
       " u'DATA',\n",
       " u'WEB',\n",
       " u'HW',\n",
       " u'OTHER',\n",
       " u'UNLABELED',\n",
       " u'DOCS',\n",
       " u'EDU']"
      ]
     },
     "execution_count": 86,
     "metadata": {},
     "output_type": "execute_result"
    }
   ],
   "source": [
    "label_names"
   ]
  },
  {
   "cell_type": "code",
   "execution_count": 87,
   "metadata": {
    "collapsed": false
   },
   "outputs": [
    {
     "name": "stdout",
     "output_type": "stream",
     "text": [
      "Built model from scratch\n"
     ]
    }
   ],
   "source": [
    "model = None\n",
    "trained_model_filneame = 'modelMeta'\n",
    "\n",
    "if trained_model_filneame not in os.listdir('.'):\n",
    "    # Struktur des Netzes\n",
    "    model = Sequential()\n",
    "    input_size = x_train.shape[1]\n",
    "    model.add(Dense(input_size, input_dim=input_size))\n",
    "    model.add(Activation('relu'))\n",
    "    model.add(Dense(input_size * 4))\n",
    "    model.add(Activation('relu'))\n",
    "    model.add(Dense(input_size * 4)) # Let's make it deeeep\n",
    "    model.add(Activation('relu'))\n",
    "    # Output Layer, one neuron per class\n",
    "    if binary:\n",
    "        model.add(Dense(2))\n",
    "    else:\n",
    "        if no_dev:\n",
    "            model.add(Dense(9))\n",
    "        else:\n",
    "            model.add(Dense(10)) # 9 without Skipped\n",
    "    # Softmax zum Normalisieren der Werte, damit Wert des Neurons WSK in % angibt\n",
    "    model.add(Activation('softmax'))\n",
    "    adam = Adam()\n",
    "    model.compile(metrics=['accuracy'], optimizer=adam, loss='categorical_crossentropy')\n",
    "    print \"Built model from scratch\"\n",
    "else:\n",
    "    model = keras.models.load_model(trained_model_filneame)\n",
    "    print \"Model was loaded from file\""
   ]
  },
  {
   "cell_type": "code",
   "execution_count": 88,
   "metadata": {
    "collapsed": false
   },
   "outputs": [
    {
     "name": "stdout",
     "output_type": "stream",
     "text": [
      "Train model\n",
      "Epoch 1/10\n",
      "301/301 [==============================] - 0s - loss: 2.4353 - acc: 0.0698         \n",
      "Epoch 2/10\n",
      "301/301 [==============================] - 0s - loss: 2.0676 - acc: 0.3987     \n",
      "Epoch 3/10\n",
      "301/301 [==============================] - 0s - loss: 1.8449 - acc: 0.5050     \n",
      "Epoch 4/10\n",
      "301/301 [==============================] - 0s - loss: 1.7185 - acc: 0.5050     \n",
      "Epoch 5/10\n",
      "301/301 [==============================] - 0s - loss: 1.6315 - acc: 0.5050     \n",
      "Epoch 6/10\n",
      "301/301 [==============================] - 0s - loss: 1.6017 - acc: 0.5050     \n",
      "Epoch 7/10\n",
      "301/301 [==============================] - 0s - loss: 1.5609 - acc: 0.5083     \n",
      "Epoch 8/10\n",
      "301/301 [==============================] - 0s - loss: 1.5383 - acc: 0.5083     \n",
      "Epoch 9/10\n",
      "301/301 [==============================] - 0s - loss: 1.5228 - acc: 0.5083     \n",
      "Epoch 10/10\n",
      "301/301 [==============================] - 0s - loss: 1.5100 - acc: 0.5083     \n"
     ]
    },
    {
     "data": {
      "text/plain": [
       "<keras.callbacks.History at 0x11c645bd0>"
      ]
     },
     "execution_count": 88,
     "metadata": {},
     "output_type": "execute_result"
    }
   ],
   "source": [
    "print \"Train model\"\n",
    "model.fit(x_train, y_train, nb_epoch=10, shuffle=True, verbose=True)"
   ]
  },
  {
   "cell_type": "code",
   "execution_count": 89,
   "metadata": {
    "collapsed": false
   },
   "outputs": [
    {
     "name": "stdout",
     "output_type": "stream",
     "text": [
      "Test on 130 unknown samples\n",
      "Loss, accuracy:  [1.0756243522350604, 0.7846153846153846]\n"
     ]
    }
   ],
   "source": [
    "# Get accuracy on test_set\n",
    "print \"Test on {} unknown samples\".format(len(x_test))\n",
    "acc = model.evaluate(x_test, y_test, verbose=0)\n",
    "print \"Loss, accuracy: \", acc"
   ]
  },
  {
   "cell_type": "code",
   "execution_count": 17,
   "metadata": {
    "collapsed": false
   },
   "outputs": [
    {
     "name": "stdout",
     "output_type": "stream",
     "text": [
      "files screenshot.png\n",
      "hasDownloads 1\n",
      "watches 9\n",
      "folder_count 93\n",
      "treeDepth 9\n",
      "id 99\n",
      "api_url https://api.github.com/repos/zzolo/dropbox-upstart\n",
      "author zzolo\n",
      "stars 964\n",
      "forks 98\n",
      "api_calls 99\n",
      "folders tests\n",
      "language_array VimL Ruby Shell\n",
      "commit_count 98\n",
      "commit_interval_avg 9\n",
      "branch_count 9\n",
      "contributors_count 9\n",
      "class WEB\n",
      "open_issues_count 9\n",
      "name zfo-editor\n",
      "language_main r\n",
      "url https://github.com/zzolo/dropbox-upstart\n",
      "avg_commit_length 99\n",
      "hasWiki 1\n",
      "treeArray  src srcmipruebagit\n",
      "file_count 99\n",
      "commit_interval_max 9\n",
      "tagger stefan\n",
      "isFork 1\n"
     ]
    }
   ],
   "source": [
    "key_max = {}\n",
    "data = api_call()\n",
    "\n",
    "for i in xrange(len(data)):\n",
    "    for x in data[i]:\n",
    "        if not x in key_max:\n",
    "            key_max[x] = data[i][x]\n",
    "        else:\n",
    "            if data[i][x] > key_max[x]:\n",
    "                key_max[x] = data[i][x]\n",
    "\n",
    "for x in key_max:\n",
    "    if x != 'readme' and x != 'description':\n",
    "        print x, key_max[x]"
   ]
  },
  {
   "cell_type": "code",
   "execution_count": 40,
   "metadata": {
    "collapsed": false
   },
   "outputs": [
    {
     "data": {
      "text/plain": [
       "8"
      ]
     },
     "execution_count": 40,
     "metadata": {},
     "output_type": "execute_result"
    }
   ],
   "source": [
    "max(labels)"
   ]
  },
  {
   "cell_type": "code",
   "execution_count": null,
   "metadata": {
    "collapsed": true
   },
   "outputs": [],
   "source": []
  }
 ],
 "metadata": {
  "kernelspec": {
   "display_name": "Python 2",
   "language": "python",
   "name": "python2"
  },
  "language_info": {
   "codemirror_mode": {
    "name": "ipython",
    "version": 2
   },
   "file_extension": ".py",
   "mimetype": "text/x-python",
   "name": "python",
   "nbconvert_exporter": "python",
   "pygments_lexer": "ipython2",
   "version": "2.7.11"
  }
 },
 "nbformat": 4,
 "nbformat_minor": 1
}
