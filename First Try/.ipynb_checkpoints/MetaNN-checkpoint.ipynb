{
 "cells": [
  {
   "cell_type": "code",
   "execution_count": 80,
   "metadata": {
    "collapsed": false
   },
   "outputs": [],
   "source": [
    "import utilities\n",
    "from utilities import *\n",
    "import keras\n",
    "from keras.models import Sequential\n",
    "from keras.layers import Dense, Activation\n",
    "from keras.optimizers import Adam\n",
    "import os\n",
    "\n",
    "def test_sentence(sentence):\n",
    "    sentence = process_text(sentence)\n",
    "    vec = vectorizer.transform([sentence]).toarray()\n",
    "    prediction = model.predict_proba(vec)[0]\n",
    "    print \"Label\", label_names[np.argmax(prediction)]\n",
    "    for i, category in enumerate(label_names):\n",
    "        print \"{}: {:.2f}\".format(category, prediction[i])\n",
    "\n",
    "# Constants\n",
    "no_dev = False\n",
    "binary = False"
   ]
  },
  {
   "cell_type": "code",
   "execution_count": 81,
   "metadata": {
    "collapsed": false
   },
   "outputs": [
    {
     "name": "stdout",
     "output_type": "stream",
     "text": [
      "Get and process data\n",
      "Prepare one-hot-encoding\n"
     ]
    }
   ],
   "source": [
    "print \"Get and process data\"\n",
    "# Get raw text + labels\n",
    "features, labels, label_names = get_data(whatIWant='meta', binary=binary, no_dev=no_dev)\n",
    "features = np.asanyarray(features)\n",
    "\n",
    "# x sind die eingabematrizen, y sind die vektoren in denen die ergebnisse stehen\n",
    "x_train, x_test, y_train, y_test = split_train_test(features, labels, ratio=0.7, shuffle=True)\n",
    "\n",
    "print \"Prepare one-hot-encoding\"\n",
    "# One-Hot-Encoding needed for Neural Net Output\n",
    "y_train = one_hot_encoding(y_train)\n",
    "y_test = one_hot_encoding(y_test)"
   ]
  },
  {
   "cell_type": "code",
   "execution_count": 86,
   "metadata": {
    "collapsed": false
   },
   "outputs": [
    {
     "data": {
      "text/plain": [
       "[u'SKIPPED',\n",
       " u'DEV',\n",
       " u'UNSURE',\n",
       " u'DATA',\n",
       " u'WEB',\n",
       " u'HW',\n",
       " u'OTHER',\n",
       " u'UNLABELED',\n",
       " u'DOCS',\n",
       " u'EDU']"
      ]
     },
     "execution_count": 86,
     "metadata": {},
     "output_type": "execute_result"
    }
   ],
   "source": [
    "label_names"
   ]
  },
  {
   "cell_type": "code",
   "execution_count": 84,
   "metadata": {
    "collapsed": false
   },
   "outputs": [
    {
     "name": "stdout",
     "output_type": "stream",
     "text": [
      "Built model from scratch\n"
     ]
    }
   ],
   "source": [
    "model = None\n",
    "trained_model_filneame = 'modelMeta'\n",
    "\n",
    "if trained_model_filneame not in os.listdir('.'):\n",
    "    # Struktur des Netzes\n",
    "    model = Sequential()\n",
    "    input_size = x_train.shape[1]\n",
    "    model.add(Dense(input_size, input_dim=input_size))\n",
    "    model.add(Activation('relu'))\n",
    "    model.add(Dense(input_size * 4))\n",
    "    model.add(Activation('relu'))\n",
    "    model.add(Dense(input_size * 4)) # Let's make it deeeep\n",
    "    model.add(Activation('relu'))\n",
    "    # Output Layer, one neuron per class\n",
    "    if binary:\n",
    "        model.add(Dense(2))\n",
    "    else:\n",
    "        if no_dev:\n",
    "            model.add(Dense(9))\n",
    "        else:\n",
    "            model.add(Dense(10)) # 9 without Skipped\n",
    "    # Softmax zum Normalisieren der Werte, damit Wert des Neurons WSK in % angibt\n",
    "    model.add(Activation('softmax'))\n",
    "    adam = Adam()\n",
    "    model.compile(metrics=['accuracy'], optimizer=adam, loss='categorical_crossentropy')\n",
    "    print \"Built model from scratch\"\n",
    "else:\n",
    "    model = keras.models.load_model(trained_model_filneame)\n",
    "    print \"Model was loaded from file\""
   ]
  },
  {
   "cell_type": "code",
   "execution_count": 85,
   "metadata": {
    "collapsed": false
   },
   "outputs": [
    {
     "name": "stdout",
     "output_type": "stream",
     "text": [
      "Train model\n"
     ]
    },
    {
     "ename": "Exception",
     "evalue": "Error when checking model target: expected activation_60 to have shape (None, 8) but got array with shape (301, 10)",
     "output_type": "error",
     "traceback": [
      "\u001b[0;31m---------------------------------------------------------------------------\u001b[0m",
      "\u001b[0;31mException\u001b[0m                                 Traceback (most recent call last)",
      "\u001b[0;32m<ipython-input-85-9fe697d8f0a8>\u001b[0m in \u001b[0;36m<module>\u001b[0;34m()\u001b[0m\n\u001b[1;32m      1\u001b[0m \u001b[0;32mprint\u001b[0m \u001b[0;34m\"Train model\"\u001b[0m\u001b[0;34m\u001b[0m\u001b[0m\n\u001b[0;32m----> 2\u001b[0;31m \u001b[0mmodel\u001b[0m\u001b[0;34m.\u001b[0m\u001b[0mfit\u001b[0m\u001b[0;34m(\u001b[0m\u001b[0mx_train\u001b[0m\u001b[0;34m,\u001b[0m \u001b[0my_train\u001b[0m\u001b[0;34m,\u001b[0m \u001b[0mnb_epoch\u001b[0m\u001b[0;34m=\u001b[0m\u001b[0;36m10\u001b[0m\u001b[0;34m,\u001b[0m \u001b[0mshuffle\u001b[0m\u001b[0;34m=\u001b[0m\u001b[0mTrue\u001b[0m\u001b[0;34m,\u001b[0m \u001b[0mverbose\u001b[0m\u001b[0;34m=\u001b[0m\u001b[0mTrue\u001b[0m\u001b[0;34m)\u001b[0m\u001b[0;34m\u001b[0m\u001b[0m\n\u001b[0m",
      "\u001b[0;32m/Users/andreas/anaconda/lib/python2.7/site-packages/keras/models.pyc\u001b[0m in \u001b[0;36mfit\u001b[0;34m(self, x, y, batch_size, nb_epoch, verbose, callbacks, validation_split, validation_data, shuffle, class_weight, sample_weight, **kwargs)\u001b[0m\n\u001b[1;32m    625\u001b[0m                               \u001b[0mshuffle\u001b[0m\u001b[0;34m=\u001b[0m\u001b[0mshuffle\u001b[0m\u001b[0;34m,\u001b[0m\u001b[0;34m\u001b[0m\u001b[0m\n\u001b[1;32m    626\u001b[0m                               \u001b[0mclass_weight\u001b[0m\u001b[0;34m=\u001b[0m\u001b[0mclass_weight\u001b[0m\u001b[0;34m,\u001b[0m\u001b[0;34m\u001b[0m\u001b[0m\n\u001b[0;32m--> 627\u001b[0;31m                               sample_weight=sample_weight)\n\u001b[0m\u001b[1;32m    628\u001b[0m \u001b[0;34m\u001b[0m\u001b[0m\n\u001b[1;32m    629\u001b[0m     def evaluate(self, x, y, batch_size=32, verbose=1,\n",
      "\u001b[0;32m/Users/andreas/anaconda/lib/python2.7/site-packages/keras/engine/training.pyc\u001b[0m in \u001b[0;36mfit\u001b[0;34m(self, x, y, batch_size, nb_epoch, verbose, callbacks, validation_split, validation_data, shuffle, class_weight, sample_weight)\u001b[0m\n\u001b[1;32m   1050\u001b[0m                                                            \u001b[0mclass_weight\u001b[0m\u001b[0;34m=\u001b[0m\u001b[0mclass_weight\u001b[0m\u001b[0;34m,\u001b[0m\u001b[0;34m\u001b[0m\u001b[0m\n\u001b[1;32m   1051\u001b[0m                                                            \u001b[0mcheck_batch_dim\u001b[0m\u001b[0;34m=\u001b[0m\u001b[0mFalse\u001b[0m\u001b[0;34m,\u001b[0m\u001b[0;34m\u001b[0m\u001b[0m\n\u001b[0;32m-> 1052\u001b[0;31m                                                            batch_size=batch_size)\n\u001b[0m\u001b[1;32m   1053\u001b[0m         \u001b[0;31m# prepare validation data\u001b[0m\u001b[0;34m\u001b[0m\u001b[0;34m\u001b[0m\u001b[0m\n\u001b[1;32m   1054\u001b[0m         \u001b[0;32mif\u001b[0m \u001b[0mvalidation_data\u001b[0m\u001b[0;34m:\u001b[0m\u001b[0;34m\u001b[0m\u001b[0m\n",
      "\u001b[0;32m/Users/andreas/anaconda/lib/python2.7/site-packages/keras/engine/training.pyc\u001b[0m in \u001b[0;36m_standardize_user_data\u001b[0;34m(self, x, y, sample_weight, class_weight, check_batch_dim, batch_size)\u001b[0m\n\u001b[1;32m    981\u001b[0m                                    \u001b[0moutput_shapes\u001b[0m\u001b[0;34m,\u001b[0m\u001b[0;34m\u001b[0m\u001b[0m\n\u001b[1;32m    982\u001b[0m                                    \u001b[0mcheck_batch_dim\u001b[0m\u001b[0;34m=\u001b[0m\u001b[0mFalse\u001b[0m\u001b[0;34m,\u001b[0m\u001b[0;34m\u001b[0m\u001b[0m\n\u001b[0;32m--> 983\u001b[0;31m                                    exception_prefix='model target')\n\u001b[0m\u001b[1;32m    984\u001b[0m         sample_weights = standardize_sample_weights(sample_weight,\n\u001b[1;32m    985\u001b[0m                                                     self.output_names)\n",
      "\u001b[0;32m/Users/andreas/anaconda/lib/python2.7/site-packages/keras/engine/training.pyc\u001b[0m in \u001b[0;36mstandardize_input_data\u001b[0;34m(data, names, shapes, check_batch_dim, exception_prefix)\u001b[0m\n\u001b[1;32m    109\u001b[0m                                         \u001b[0;34m' to have shape '\u001b[0m \u001b[0;34m+\u001b[0m \u001b[0mstr\u001b[0m\u001b[0;34m(\u001b[0m\u001b[0mshapes\u001b[0m\u001b[0;34m[\u001b[0m\u001b[0mi\u001b[0m\u001b[0;34m]\u001b[0m\u001b[0;34m)\u001b[0m \u001b[0;34m+\u001b[0m\u001b[0;34m\u001b[0m\u001b[0m\n\u001b[1;32m    110\u001b[0m                                         \u001b[0;34m' but got array with shape '\u001b[0m \u001b[0;34m+\u001b[0m\u001b[0;34m\u001b[0m\u001b[0m\n\u001b[0;32m--> 111\u001b[0;31m                                         str(array.shape))\n\u001b[0m\u001b[1;32m    112\u001b[0m     \u001b[0;32mreturn\u001b[0m \u001b[0marrays\u001b[0m\u001b[0;34m\u001b[0m\u001b[0m\n\u001b[1;32m    113\u001b[0m \u001b[0;34m\u001b[0m\u001b[0m\n",
      "\u001b[0;31mException\u001b[0m: Error when checking model target: expected activation_60 to have shape (None, 8) but got array with shape (301, 10)"
     ]
    }
   ],
   "source": [
    "print \"Train model\"\n",
    "model.fit(x_train, y_train, nb_epoch=10, shuffle=True, verbose=True)"
   ]
  },
  {
   "cell_type": "code",
   "execution_count": 78,
   "metadata": {
    "collapsed": false
   },
   "outputs": [
    {
     "name": "stdout",
     "output_type": "stream",
     "text": [
      "Test on 53 unknown samples\n",
      "Loss, accuracy:  [3.4961194722157605, 0.094339622992951913]\n"
     ]
    }
   ],
   "source": [
    "# Get accuracy on test_set\n",
    "print \"Test on {} unknown samples\".format(len(x_test))\n",
    "acc = model.evaluate(x_test, y_test, verbose=0)\n",
    "print \"Loss, accuracy: \", acc"
   ]
  },
  {
   "cell_type": "code",
   "execution_count": 17,
   "metadata": {
    "collapsed": false
   },
   "outputs": [
    {
     "name": "stdout",
     "output_type": "stream",
     "text": [
      "files screenshot.png\n",
      "hasDownloads 1\n",
      "watches 9\n",
      "folder_count 93\n",
      "treeDepth 9\n",
      "id 99\n",
      "api_url https://api.github.com/repos/zzolo/dropbox-upstart\n",
      "author zzolo\n",
      "stars 964\n",
      "forks 98\n",
      "api_calls 99\n",
      "folders tests\n",
      "language_array VimL Ruby Shell\n",
      "commit_count 98\n",
      "commit_interval_avg 9\n",
      "branch_count 9\n",
      "contributors_count 9\n",
      "class WEB\n",
      "open_issues_count 9\n",
      "name zfo-editor\n",
      "language_main r\n",
      "url https://github.com/zzolo/dropbox-upstart\n",
      "avg_commit_length 99\n",
      "hasWiki 1\n",
      "treeArray  src srcmipruebagit\n",
      "file_count 99\n",
      "commit_interval_max 9\n",
      "tagger stefan\n",
      "isFork 1\n"
     ]
    }
   ],
   "source": [
    "key_max = {}\n",
    "data = api_call()\n",
    "\n",
    "for i in xrange(len(data)):\n",
    "    for x in data[i]:\n",
    "        if not x in key_max:\n",
    "            key_max[x] = data[i][x]\n",
    "        else:\n",
    "            if data[i][x] > key_max[x]:\n",
    "                key_max[x] = data[i][x]\n",
    "\n",
    "for x in key_max:\n",
    "    if x != 'readme' and x != 'description':\n",
    "        print x, key_max[x]"
   ]
  },
  {
   "cell_type": "code",
   "execution_count": 40,
   "metadata": {
    "collapsed": false
   },
   "outputs": [
    {
     "data": {
      "text/plain": [
       "8"
      ]
     },
     "execution_count": 40,
     "metadata": {},
     "output_type": "execute_result"
    }
   ],
   "source": [
    "max(labels)"
   ]
  },
  {
   "cell_type": "code",
   "execution_count": null,
   "metadata": {
    "collapsed": true
   },
   "outputs": [],
   "source": []
  }
 ],
 "metadata": {
  "kernelspec": {
   "display_name": "Python 2",
   "language": "python",
   "name": "python2"
  },
  "language_info": {
   "codemirror_mode": {
    "name": "ipython",
    "version": 2
   },
   "file_extension": ".py",
   "mimetype": "text/x-python",
   "name": "python",
   "nbconvert_exporter": "python",
   "pygments_lexer": "ipython2",
   "version": "2.7.11"
  }
 },
 "nbformat": 4,
 "nbformat_minor": 1
}
