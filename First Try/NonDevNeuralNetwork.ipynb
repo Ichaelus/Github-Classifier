{
 "cells": [
  {
   "cell_type": "code",
   "execution_count": 58,
   "metadata": {
    "collapsed": false
   },
   "outputs": [],
   "source": [
    "import utilities\n",
    "from utilities import *\n",
    "import keras\n",
    "from keras.models import Sequential\n",
    "from keras.layers import Dense, Activation\n",
    "import os\n",
    "\n",
    "def test_sentence(sentence):\n",
    "    sentence = process_text(sentence)\n",
    "    vec = vectorizer.transform([sentence]).toarray()\n",
    "    prediction = model.predict_proba(vec)[0]\n",
    "    print \"Label\", label_names[np.argmax(prediction)]\n",
    "    for i, category in enumerate(label_names):\n",
    "        print \"{}: {:.2f}\".format(category, prediction[i])\n",
    "\n",
    "# Constants\n",
    "no_dev = True\n",
    "binary = False"
   ]
  },
  {
   "cell_type": "code",
   "execution_count": 67,
   "metadata": {
    "collapsed": false
   },
   "outputs": [
    {
     "name": "stdout",
     "output_type": "stream",
     "text": [
      "Get and process data\n",
      "Vectorize data\n",
      "Prepare one-hot-encoding\n"
     ]
    }
   ],
   "source": [
    "print \"Get and process data\"\n",
    "# Get raw text + labels\n",
    "features, labels, label_names = get_data('readme', binary=binary, no_dev=no_dev)\n",
    "features2, labels2, label_names2 = get_data('description', binary=binary, no_dev=no_dev)\n",
    "features = features + features2\n",
    "labels = labels + labels2\n",
    "features, labels = shuffle_data(features, labels)\n",
    "#features = np.matrix(features)\n",
    "\n",
    "print \"Vectorize data\"\n",
    "# trainingsdaten werden in eingabedaten (vektoren) umgewandelt\n",
    "# features ist dann matrix bestehend aus den einzelnen vektore\n",
    "features, vectorizer = vectorize_text(features, max_features=3000)\n",
    "\n",
    "# x sind die eingabematrizen, y sind die vektoren in denen die ergebnisse stehen\n",
    "x_train, x_test, y_train, y_test = split_train_test(features, labels, ratio=0.7, shuffle=True)\n",
    "\n",
    "print \"Prepare one-hot-encoding\"\n",
    "# One-Hot-Encoding needed for Neural Net Output\n",
    "y_train = one_hot_encoding(y_train)\n",
    "y_test = one_hot_encoding(y_test)"
   ]
  },
  {
   "cell_type": "code",
   "execution_count": 68,
   "metadata": {
    "collapsed": false
   },
   "outputs": [
    {
     "name": "stdout",
     "output_type": "stream",
     "text": [
      "Build model\n"
     ]
    }
   ],
   "source": [
    "print \"Build model\"\n",
    "model = None\n",
    "trained_model_filneame = 'modelnondev'\n",
    "\n",
    "if trained_model_filneame not in os.listdir('.'):\n",
    "    # Struktur des Netzes\n",
    "    model = Sequential()\n",
    "    input_size = x_train.shape[1]\n",
    "    model.add(Dense(input_size, input_dim=input_size))\n",
    "    model.add(Activation('relu'))\n",
    "    model.add(Dense(input_size * 3))\n",
    "    model.add(Activation('relu'))\n",
    "    model.add(Dense(input_size * 3)) # Let's make it deeeep\n",
    "    model.add(Activation('relu'))\n",
    "    # Output Layer, one neuron per class\n",
    "    if binary:\n",
    "        model.add(Dense(2))\n",
    "    else:\n",
    "        if no_dev:\n",
    "            model.add(Dense(7))\n",
    "        else:\n",
    "            model.add(Dense(8))\n",
    "    # Softmax zum Normalisieren der Werte, damit Wert des Neurons WSK in % angibt\n",
    "    model.add(Activation('softmax'))\n",
    "\n",
    "    model.compile(metrics=['accuracy'], optimizer='adam', loss='categorical_crossentropy')\n",
    "else:\n",
    "    model = keras.models.load_model(trained_model_filneame)"
   ]
  },
  {
   "cell_type": "code",
   "execution_count": 70,
   "metadata": {
    "collapsed": false
   },
   "outputs": [
    {
     "name": "stdout",
     "output_type": "stream",
     "text": [
      "Train model\n",
      "Epoch 1/10\n",
      "443/443 [==============================] - 97s - loss: 1.1246 - acc: 0.6117    \n",
      "Epoch 2/10\n",
      "443/443 [==============================] - 105s - loss: 0.6502 - acc: 0.7810   \n",
      "Epoch 3/10\n",
      "443/443 [==============================] - 103s - loss: 0.5256 - acc: 0.8217   \n",
      "Epoch 4/10\n",
      "443/443 [==============================] - 102s - loss: 0.5255 - acc: 0.8172   \n",
      "Epoch 5/10\n",
      "443/443 [==============================] - 104s - loss: 0.4239 - acc: 0.8510   \n",
      "Epoch 6/10\n",
      "443/443 [==============================] - 108s - loss: 0.3980 - acc: 0.8600   \n",
      "Epoch 7/10\n",
      "443/443 [==============================] - 109s - loss: 0.3837 - acc: 0.8623   \n",
      "Epoch 8/10\n",
      "443/443 [==============================] - 102s - loss: 0.4117 - acc: 0.8646   \n",
      "Epoch 9/10\n",
      "443/443 [==============================] - 111s - loss: 0.4219 - acc: 0.8646   \n",
      "Epoch 10/10\n",
      "443/443 [==============================] - 123s - loss: 0.4148 - acc: 0.8646   \n"
     ]
    },
    {
     "data": {
      "text/plain": [
       "<keras.callbacks.History at 0x116c8d810>"
      ]
     },
     "execution_count": 70,
     "metadata": {},
     "output_type": "execute_result"
    }
   ],
   "source": [
    "print \"Train model\"\n",
    "model.fit(x_train, y_train, nb_epoch=10, shuffle=True, batch_size=8)"
   ]
  },
  {
   "cell_type": "code",
   "execution_count": 52,
   "metadata": {
    "collapsed": false
   },
   "outputs": [
    {
     "name": "stdout",
     "output_type": "stream",
     "text": [
      "Test on 95 unknown samples\n",
      "Loss, accuracy:  [0.70906480864474652, 0.84210525562888694]\n"
     ]
    }
   ],
   "source": [
    "# Get accuracy on test_set\n",
    "print \"Test on {} unknown samples\".format(len(x_test))\n",
    "acc = model.evaluate(x_test, y_test, verbose=0)\n",
    "print \"Loss, accuracy: \", acc"
   ]
  },
  {
   "cell_type": "code",
   "execution_count": 66,
   "metadata": {
    "collapsed": false
   },
   "outputs": [
    {
     "name": "stdout",
     "output_type": "stream",
     "text": [
      "1/1 [==============================] - 0s\n",
      "Label OTHER\n",
      "WEB: 0.21\n",
      "DOCS: 0.16\n",
      "OTHER: 0.37\n",
      "EDU: 0.03\n",
      "HW: 0.03\n",
      "DATA: 0.10\n",
      "UNSURE: 0.10\n"
     ]
    }
   ],
   "source": [
    "# Test model on some sentence\n",
    "# \n",
    "test_sentence('')"
   ]
  },
  {
   "cell_type": "code",
   "execution_count": null,
   "metadata": {
    "collapsed": true
   },
   "outputs": [],
   "source": [
    "# Save model\n",
    "model.save(trained_model_filneame)"
   ]
  }
 ],
 "metadata": {
  "kernelspec": {
   "display_name": "Python 2",
   "language": "python",
   "name": "python2"
  },
  "language_info": {
   "codemirror_mode": {
    "name": "ipython",
    "version": 2
   },
   "file_extension": ".py",
   "mimetype": "text/x-python",
   "name": "python",
   "nbconvert_exporter": "python",
   "pygments_lexer": "ipython2",
   "version": "2.7.11"
  }
 },
 "nbformat": 4,
 "nbformat_minor": 1
}
